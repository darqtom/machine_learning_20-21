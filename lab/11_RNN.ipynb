{
  "nbformat": 4,
  "nbformat_minor": 0,
  "metadata": {
    "accelerator": "GPU",
    "colab": {
      "name": "11_RNN.ipynb",
      "provenance": [],
      "collapsed_sections": [],
      "toc_visible": true
    },
    "kernelspec": {
      "display_name": "Python 3",
      "language": "python",
      "name": "python3"
    },
    "language_info": {
      "codemirror_mode": {
        "name": "ipython",
        "version": 3
      },
      "file_extension": ".py",
      "mimetype": "text/x-python",
      "name": "python",
      "nbconvert_exporter": "python",
      "pygments_lexer": "ipython3",
      "version": "3.7.9"
    }
  },
  "cells": [
    {
      "cell_type": "markdown",
      "metadata": {
        "id": "P95c6hK3hAQq"
      },
      "source": [
        "# Rekurencyjne Sieci Neuronowe (RNN)"
      ]
    },
    {
      "cell_type": "markdown",
      "metadata": {
        "id": "laVdd5g5hAQu"
      },
      "source": [
        "### Importy i Utilsy  (odpalić i schować )"
      ]
    },
    {
      "cell_type": "code",
      "metadata": {
        "id": "I0D3yk7lhAQu"
      },
      "source": [
        "# imports \n",
        "import torch\n",
        "import os\n",
        "import unicodedata\n",
        "import string\n",
        "import numpy as np\n",
        "from typing import Tuple, Optional, List\n",
        "\n",
        "from torch.nn.functional import cross_entropy\n",
        "\n",
        "import matplotlib.pyplot as plt \n",
        "from sklearn.metrics import f1_score\n",
        "\n",
        "from torch.utils.data import Dataset, DataLoader\n",
        "\n",
        "all_letters = string.ascii_letters\n",
        "n_letters = len(all_letters)\n",
        "\n",
        "\n",
        "class ListDataset(Dataset):\n",
        "    \n",
        "    def __init__(self, data, targets):\n",
        "        \n",
        "        self.data = data\n",
        "        self.targets = targets\n",
        "        \n",
        "    def __getitem__(self, ind):\n",
        "        \n",
        "        return self.data[ind], self.targets[ind]\n",
        "    \n",
        "    def __len__(self):\n",
        "        return len(self.targets)\n",
        "\n",
        "    \n",
        "def unicode_to__ascii(s: str) -> str:\n",
        "    return ''.join(c for c in unicodedata.normalize('NFD', s) if unicodedata.category(c) != 'Mn'\n",
        "                                                                 and c in all_letters)\n",
        "                   \n",
        "\n",
        "def read_lines(filename: str) -> List[str]:\n",
        "    lines = open(filename, encoding='utf-8').read().strip().split('\\n')\n",
        "    return [unicode_to__ascii(line) for line in lines]\n",
        "\n",
        "\n",
        "def letter_to_index(letter: str) -> int:\n",
        "    return all_letters.find(letter)\n",
        "\n",
        "\n",
        "def line_to_tensor(line: str) -> torch.Tensor:\n",
        "    tensor = torch.zeros(len(line), n_letters)\n",
        "    for i, letter in enumerate(line):\n",
        "        tensor[i][letter_to_index(letter)] = 1\n",
        "    return tensor"
      ],
      "execution_count": 1,
      "outputs": []
    },
    {
      "cell_type": "markdown",
      "metadata": {
        "id": "RcSQvaMPhAQv"
      },
      "source": [
        "## Dane sekwencyjne\n",
        "\n",
        "Modele, którymi zajmowaliśmy się wcześniej zakładały konkretny kształt danych. Dla przykładu klasyczna sieć neuronowa fully-connected dla MNISTa zakładała, że na wejściu dostanie wektory rozmiaru 784 - dla wektorów o innej wymiarowości i innych obiektów model zwyczajnie nie będzie działać.\n",
        "\n",
        "Takie założenie bywa szczególnie niewygodne przy pracy z niektórymi typami danych, takimi jak:\n",
        "* językiem naturalny (słowa czy zdania mają zadanej z góry liczby znaków)\n",
        "* szeregi czasowe (dane giełdowe ciągną się właściwie w nieskończoność) \n",
        "* dźwięk (nagrania mogą być krótsze lub dłuższe).\n",
        "\n",
        "Do rozwiązania tego problemu służą rekuencyjne sieci neuronowe (*recurrent neural networks, RNNs*), które zapamiętują swój stan z poprzedniej iteracji."
      ]
    },
    {
      "cell_type": "markdown",
      "metadata": {
        "id": "mH3chO87hAQv"
      },
      "source": [
        "### Ładowanie danych\n",
        "Poniższe dwie komórki ściągają dataset nazwisk z 18 różnych narodowości. Każda litera w danym nazwisku jest zamieniana na jej indeks z alfabetu w postaci kodowania \"one-hot\". Inaczej mówiąc, każde nazwisko jest binarną macierzą rozmiaru `len(name)` $\\times$ `n_letters`. \n",
        "\n",
        "Dodatkowo, ponieważ ten dataset jest mocno niezbalansowany, użyjemy specjalnego samplera do losowania przykładów treningowych, tak aby do uczenia sieć widziała tyle samo przykładów z każdej klasy.\n",
        "\n",
        "Ponieważ nazwiska mogą mieć różne długości będziemy rozważać `batch_size = 1` w tym notebooku (choć implementacje modeli powinny działać dla dowolnych wartości `batch_size`!)"
      ]
    },
    {
      "cell_type": "code",
      "metadata": {
        "id": "maOHB6NZiRgr",
        "colab": {
          "base_uri": "https://localhost:8080/"
        },
        "outputId": "b63c94b8-dae1-47fe-c65c-5727d38c0f93"
      },
      "source": [
        "!wget https://download.pytorch.org/tutorial/data.zip\n",
        "!unzip data.zip"
      ],
      "execution_count": 2,
      "outputs": [
        {
          "output_type": "stream",
          "text": [
            "--2021-01-20 16:16:13--  https://download.pytorch.org/tutorial/data.zip\n",
            "Resolving download.pytorch.org (download.pytorch.org)... 13.32.204.65, 13.32.204.34, 13.32.204.49, ...\n",
            "Connecting to download.pytorch.org (download.pytorch.org)|13.32.204.65|:443... connected.\n",
            "HTTP request sent, awaiting response... 200 OK\n",
            "Length: 2882130 (2.7M) [application/zip]\n",
            "Saving to: ‘data.zip.1’\n",
            "\n",
            "\rdata.zip.1            0%[                    ]       0  --.-KB/s               \rdata.zip.1          100%[===================>]   2.75M  --.-KB/s    in 0.01s   \n",
            "\n",
            "2021-01-20 16:16:13 (209 MB/s) - ‘data.zip.1’ saved [2882130/2882130]\n",
            "\n",
            "Archive:  data.zip\n",
            "replace data/eng-fra.txt? [y]es, [n]o, [A]ll, [N]one, [r]ename: A\n",
            "  inflating: data/eng-fra.txt        \n",
            "  inflating: data/names/Arabic.txt   \n",
            "  inflating: data/names/Chinese.txt  \n",
            "  inflating: data/names/Czech.txt    \n",
            "  inflating: data/names/Dutch.txt    \n",
            "  inflating: data/names/English.txt  \n",
            "  inflating: data/names/French.txt   \n",
            "  inflating: data/names/German.txt   \n",
            "  inflating: data/names/Greek.txt    \n",
            "  inflating: data/names/Irish.txt    \n",
            "  inflating: data/names/Italian.txt  \n",
            "  inflating: data/names/Japanese.txt  \n",
            "  inflating: data/names/Korean.txt   \n",
            "  inflating: data/names/Polish.txt   \n",
            "  inflating: data/names/Portuguese.txt  \n",
            "  inflating: data/names/Russian.txt  \n",
            "  inflating: data/names/Scottish.txt  \n",
            "  inflating: data/names/Spanish.txt  \n",
            "  inflating: data/names/Vietnamese.txt  \n"
          ],
          "name": "stdout"
        }
      ]
    },
    {
      "cell_type": "code",
      "metadata": {
        "id": "DRGjkPZ2hAQv"
      },
      "source": [
        "# NOTE: you can change the seed or remove it completely if you like\n",
        "torch.manual_seed(1337)\n",
        "\n",
        "data_dir = 'data/names'\n",
        "\n",
        "data = []\n",
        "targets = [] \n",
        "label_to_idx = {}\n",
        "\n",
        "# read each natonality file and process data \n",
        "for label, file_name in enumerate(os.listdir(data_dir)):\n",
        "    \n",
        "    label_to_idx[label] = file_name.split('.')[0].lower()\n",
        "    \n",
        "    names = read_lines(os.path.join(data_dir, file_name))\n",
        "    data += [line_to_tensor(name) for name in names]\n",
        "    targets += len(names) * [label]\n",
        "\n",
        "# split into train and test indices\n",
        "test_frac = 0.1\n",
        "n_test = int(test_frac * len(targets))\n",
        "test_ind = np.random.choice(len(targets), size=n_test, replace=False)\n",
        "train_ind = np.setdiff1d(np.arange(len(targets)), test_ind)\n",
        "\n",
        "targets = torch.tensor(targets)\n",
        "train_targets = targets[train_ind]\n",
        "\n",
        "# calculate weights for BalancedSampler\n",
        "uni, counts = np.unique(train_targets, return_counts=True)\n",
        "weight_per_class = len(targets) / counts\n",
        "weight = [weight_per_class[c] for c in train_targets]\n",
        "# preapre the sampler\n",
        "sampler = torch.utils.data.sampler.WeightedRandomSampler(weights=weight, num_samples=len(weight)) \n",
        "\n",
        "train_dataset = ListDataset(data=[x for i, x in enumerate(data) if i in train_ind], targets=train_targets)\n",
        "train_loader = DataLoader(train_dataset, shuffle=False, batch_size=1, sampler=sampler)\n",
        "\n",
        "test_dataset = ListDataset(data=[x for i, x in enumerate(data) if i in test_ind], targets=targets[test_ind])\n",
        "test_loader = DataLoader(test_dataset, shuffle=False, batch_size=1)"
      ],
      "execution_count": 3,
      "outputs": []
    },
    {
      "cell_type": "code",
      "metadata": {
        "id": "Yvstu1-sldC6",
        "colab": {
          "base_uri": "https://localhost:8080/"
        },
        "outputId": "a669380a-aed3-4672-b659-80b440283219"
      },
      "source": [
        "# check out the content of the dataset\n",
        "for i, (x, y) in enumerate(train_loader):\n",
        "    break\n",
        "\n",
        "print(\"x.shape:\", x.shape)\n",
        "print(\"name: \", end=\"\")\n",
        "for letter_onehot in x[0]:\n",
        "    print(all_letters[torch.argmax(letter_onehot)], end=\"\")\n",
        "\n",
        "print(\"\\ny:\", label_to_idx[y.item()])"
      ],
      "execution_count": 4,
      "outputs": [
        {
          "output_type": "stream",
          "text": [
            "x.shape: torch.Size([1, 2, 52])\n",
            "name: Ta\n",
            "y: vietnamese\n"
          ],
          "name": "stdout"
        }
      ]
    },
    {
      "cell_type": "markdown",
      "metadata": {
        "id": "x3VdtPOhhAQw"
      },
      "source": [
        "## Zadanie 1. (2 pkt.)\n",
        "\n",
        "Zaimplementuj \"zwykłą\" sieć rekurencyjną. \n",
        "![rnn](https://colah.github.io/posts/2015-08-Understanding-LSTMs/img/RNN-unrolled.png)\n",
        "\n",
        "* W klasie `RNN` należy zainicjalizować potrzebne wagi oraz zaimplementować główną logikę dla pojedynczej chwili czasowej $x_t$\n",
        "* Wyjście z sieci możemy mieć dowolny rozmiar, potrzebna jest również warstwa przekształacjąca stan ukryty na wyjście.\n",
        "* W pętli uczenia należy dodać odpowiednie wywołanie sieci. HINT: pamiętać o iterowaniu po wymiarze \"czasowym\".\n",
        "* Zalecane jest użycie aktywacji na warstwie liczącej reprezentacje `hidden` tak, aby nie \"eksplodowała\", np. `tanh`.\n"
      ]
    },
    {
      "cell_type": "code",
      "metadata": {
        "id": "WNu0vccJhAQw"
      },
      "source": [
        "class RNN(torch.nn.Module):\n",
        "    \n",
        "    def __init__(self, \n",
        "                 input_size: int,\n",
        "                 hidden_size: int, \n",
        "                 output_size: int):\n",
        "        \"\"\"\n",
        "        :param input_size: int\n",
        "            Dimensionality of the input vector\n",
        "        :param hidden_size: int\n",
        "            Dimensionality of the hidden space\n",
        "        :param output_size: int\n",
        "            Desired dimensionality of the output vector\n",
        "        \"\"\"\n",
        "        super(RNN, self).__init__()\n",
        "\n",
        "        self.hidden_size = hidden_size\n",
        "\n",
        "        self.input_to_hidden = torch.nn.Linear(input_size + hidden_size, hidden_size)\n",
        "        self.hidden_to_output = torch.nn.Linear(input_size + hidden_size, output_size)\n",
        "    \n",
        "        self.softmax = torch.nn.LogSoftmax(dim=1)\n",
        "        self.tanh = torch.nn.Tanh()\n",
        "\n",
        "    # for the sake of simplicity a single forward will process only a single timestamp \n",
        "    def forward(self, \n",
        "                input: torch.tensor, \n",
        "                hidden: torch.tensor) -> Tuple[torch.tensor, torch.tensor]:\n",
        "        \"\"\"\n",
        "        :param input: torch.tensor \n",
        "            Input tesnor for a single observation at timestep t\n",
        "            shape [batch_size, input_size]\n",
        "        :param hidden: torch.tensor\n",
        "            Representation of the memory of the RNN from previous timestep\n",
        "            shape [batch_size, hidden_size]\n",
        "        \"\"\"\n",
        "        \n",
        "        combined = torch.cat([input, hidden], dim=1) \n",
        "        hidden = self.input_to_hidden(combined)\n",
        "        hidden = self.tanh(hidden)\n",
        "\n",
        "        output = self.hidden_to_output(combined)\n",
        "        output = self.softmax(output)\n",
        "\n",
        "        return output, hidden\n",
        "    \n",
        "    def init_hidden(self, batch_size: int) -> torch.Tensor:\n",
        "        \"\"\"\n",
        "        Returns initial value for the hidden state\n",
        "        \"\"\"\n",
        "        return torch.zeros(batch_size, self.hidden_size, requires_grad=True).cuda()"
      ],
      "execution_count": 5,
      "outputs": []
    },
    {
      "cell_type": "markdown",
      "metadata": {
        "id": "LIe3L-8LhAQw"
      },
      "source": [
        "### Pętla uczenia"
      ]
    },
    {
      "cell_type": "code",
      "metadata": {
        "id": "xXEsqqvxhAQx",
        "scrolled": true,
        "colab": {
          "base_uri": "https://localhost:8080/"
        },
        "outputId": "7cfb1850-3b04-4131-ecdf-4fe5388ae185"
      },
      "source": [
        "n_class = len(label_to_idx)\n",
        "\n",
        "# initialize network and optimizer\n",
        "rnn = RNN(n_letters, 256, n_class).cuda()\n",
        "optimizer = torch.optim.SGD(rnn.parameters(), lr=0.01)   \n",
        "\n",
        "# we will train for only a single epoch \n",
        "epochs = 1\n",
        "\n",
        "# main loop\n",
        "for epoch in range(epochs):\n",
        "    \n",
        "    loss_buffer = []\n",
        "    \n",
        "    for i, (x, y) in enumerate(train_loader):  \n",
        "        \n",
        "        x = x.cuda()\n",
        "        y = y.cuda()\n",
        "        \n",
        "        optimizer.zero_grad()\n",
        "        # get initial hidden state\n",
        "        hidden = rnn.init_hidden(x.shape[0])\n",
        "        \n",
        "        # get output for the sample, remember that we treat it as a sequence\n",
        "        # so you need to iterate over the 2nd, time dimensiotn\n",
        "\n",
        "        seq_len = x.shape[1]\n",
        "\n",
        "        for j in range(seq_len):\n",
        "          output, hidden = rnn(x[:,j], hidden)\n",
        "            \n",
        "        loss = cross_entropy(output, y)\n",
        "        loss.backward()\n",
        "        optimizer.step()  \n",
        "        \n",
        "        loss_buffer.append(loss.item())\n",
        "        \n",
        "        if i % 1000 == 1:\n",
        "            print(f\"Epoch: {epoch} Progress: {100 * i/len(train_loader):2.0f}% Loss: {np.mean(loss_buffer):.3f}\")\n",
        "            loss_buffer = []\n",
        "    \n",
        "\n",
        "# evaluate on the test set\n",
        "with torch.no_grad():\n",
        "    ps = []\n",
        "    ys = []\n",
        "    correct = 0\n",
        "    for i, (x, y) in enumerate(test_loader):\n",
        "        x = x.cuda()\n",
        "        ys.append(y.numpy())\n",
        "\n",
        "        hidden = rnn.init_hidden(x.shape[0])\n",
        "        seq_len = x.shape[1]\n",
        " \n",
        "        for i in range(seq_len):\n",
        "          output, hidden = rnn(x[:,i], hidden)\n",
        "\n",
        "        pred = output.argmax(dim=1)\n",
        "        ps.append(pred.cpu().numpy())\n",
        "    \n",
        "    ps = np.concatenate(ps, axis=0)\n",
        "    ys = np.concatenate(ys, axis=0)\n",
        "    f1 = f1_score(ys, ps, average='weighted')\n",
        "    \n",
        "    print(f\"Final F1 score: {f1:.2f}\")\n",
        "    assert f1 > 0.15, \"You should get over 0.15 f1 score, try changing some hiperparams!\""
      ],
      "execution_count": 6,
      "outputs": [
        {
          "output_type": "stream",
          "text": [
            "Epoch: 0 Progress:  0% Loss: 2.912\n",
            "Epoch: 0 Progress:  6% Loss: 2.848\n",
            "Epoch: 0 Progress: 11% Loss: 2.739\n",
            "Epoch: 0 Progress: 17% Loss: 2.495\n",
            "Epoch: 0 Progress: 22% Loss: 2.344\n",
            "Epoch: 0 Progress: 28% Loss: 2.196\n",
            "Epoch: 0 Progress: 33% Loss: 2.151\n",
            "Epoch: 0 Progress: 39% Loss: 2.061\n",
            "Epoch: 0 Progress: 44% Loss: 1.995\n",
            "Epoch: 0 Progress: 50% Loss: 1.934\n",
            "Epoch: 0 Progress: 55% Loss: 1.903\n",
            "Epoch: 0 Progress: 61% Loss: 1.849\n",
            "Epoch: 0 Progress: 66% Loss: 1.831\n",
            "Epoch: 0 Progress: 72% Loss: 1.839\n",
            "Epoch: 0 Progress: 77% Loss: 1.722\n",
            "Epoch: 0 Progress: 83% Loss: 1.705\n",
            "Epoch: 0 Progress: 89% Loss: 1.683\n",
            "Epoch: 0 Progress: 94% Loss: 1.632\n",
            "Epoch: 0 Progress: 100% Loss: 1.705\n",
            "Final F1 score: 0.19\n"
          ],
          "name": "stdout"
        }
      ]
    },
    {
      "cell_type": "markdown",
      "metadata": {
        "id": "sNeNU93qn7BC"
      },
      "source": [
        "## Zadanie 2. (0.5 pkt.)\n",
        "Zaimplementuj funkcje `predict`, która przyjmuje nazwisko w postaci stringa oraz model RNN i wypisuje 3 najlepsze predykcje narodowości dla tego nazwiska razem z ich logitami.\n",
        "\n",
        "**Hint**: Przyda się tutaj jedna z funkcji z pierwszej komórki notebooka."
      ]
    },
    {
      "cell_type": "code",
      "metadata": {
        "id": "N8FhF_08hAQy"
      },
      "source": [
        "def predict(name: str, rnn: RNN):\n",
        "    \"\"\"Prints the name and model's top 3 predictions with scores\"\"\"\n",
        "    x = line_to_tensor(name).view(1, len(name), -1)\n",
        "    x = x.cuda()\n",
        "\n",
        "    hidden = rnn.init_hidden(x.shape[0])\n",
        "\n",
        "    for i in range(x.shape[1]):\n",
        "      output, hidden = rnn(x[:,i], hidden)\n",
        "      \n",
        "    best_pred = torch.topk(output, k=3, dim=1)[1]\n",
        "    for i, pred in enumerate(best_pred.data[0]):\n",
        "      print(f\"Prediction {i+1}: {label_to_idx[pred.item()]}\")\n"
      ],
      "execution_count": 7,
      "outputs": []
    },
    {
      "cell_type": "code",
      "metadata": {
        "id": "Z4OWP8wqhAQy",
        "colab": {
          "base_uri": "https://localhost:8080/"
        },
        "outputId": "d946a7ba-8a52-4e26-f762-6cb4c9db2a33"
      },
      "source": [
        "some_names = [\"Satoshi\", \"Jackson\", \"Schmidhuber\", \"Hinton\", \"Kowalski\"]\n",
        "\n",
        "for name in some_names:\n",
        "    print(name)\n",
        "    predict(name, rnn)"
      ],
      "execution_count": 8,
      "outputs": [
        {
          "output_type": "stream",
          "text": [
            "Satoshi\n",
            "Prediction 1: japanese\n",
            "Prediction 2: portuguese\n",
            "Prediction 3: italian\n",
            "Jackson\n",
            "Prediction 1: scottish\n",
            "Prediction 2: english\n",
            "Prediction 3: dutch\n",
            "Schmidhuber\n",
            "Prediction 1: german\n",
            "Prediction 2: dutch\n",
            "Prediction 3: russian\n",
            "Hinton\n",
            "Prediction 1: english\n",
            "Prediction 2: scottish\n",
            "Prediction 3: russian\n",
            "Kowalski\n",
            "Prediction 1: polish\n",
            "Prediction 2: russian\n",
            "Prediction 3: japanese\n"
          ],
          "name": "stdout"
        }
      ]
    },
    {
      "cell_type": "markdown",
      "metadata": {
        "id": "nNETvP06hAQz"
      },
      "source": [
        "## Zadanie 3 (4 pkt.)\n",
        "Ostatnim zadaniem jest implementacji komórki i sieci LSTM. \n",
        "\n",
        "![lstm](https://colah.github.io/posts/2015-08-Understanding-LSTMs/img/LSTM3-chain.png)\n",
        "\n",
        "* W klasie `LSTMCell` ma znaleźć się główna loginka LSTMa, czyli wszystkie wagi do stanów `hidden` i `cell` jak i bramek kontrolujących te stany. \n",
        "* W klasie `LSTM` powinno znaleźć się wywołanie komórki LSTM, HINT: poprzednio było w pętli uczenia, teraz przenisiemy to do klasy modelu.\n",
        "* W pętli uczenia należy uzupełnić brakujące wywołania do uczenia i ewaluacji modelu.\n",
        "\n",
        "Zdecydowanie polecam [materiały Chrisa Olaha](http://colah.github.io/posts/2015-08-Understanding-LSTMs/) do zarówno zrozumienia jak i ściągi do wzorów.\n",
        "\n",
        "Zadaniem jest osiągnięcie wartości `f1_score` lepszej niż na sieci RNN, przy prawidłowej implementacji nie powinno być z tym problemów używając podanych hiperparametrów. Dozwolona jest oczywiście zmiana `random seed`.\n",
        "\n",
        "#### Komórka LSTM"
      ]
    },
    {
      "cell_type": "code",
      "metadata": {
        "id": "GNKRxYwChAQz"
      },
      "source": [
        "class LSTMCell(torch.nn.Module):\n",
        "\n",
        "    def __init__(self, \n",
        "                 input_size: int, \n",
        "                 hidden_size: int):\n",
        "        \"\"\"\n",
        "        :param input_size: int\n",
        "            Dimensionality of the input vector\n",
        "        :param hidden_size: int\n",
        "            Dimensionality of the hidden space\n",
        "        \"\"\"\n",
        "        \n",
        "        super(LSTMCell, self).__init__()\n",
        "        \n",
        "        self.input_size = input_size\n",
        "        self.hidden_size = hidden_size\n",
        "\n",
        "        # initialize LSTM weights \n",
        "        # NOTE: there are different approaches that are all correct \n",
        "        # (e.g. single matrix for all input opperations), you can pick\n",
        "        # whichever you like for this task\n",
        "\n",
        "        self.U_f = torch.nn.Parameter(torch.Tensor(input_size, hidden_size))\n",
        "        self.V_f = torch.nn.Parameter(torch.Tensor(hidden_size, hidden_size))\n",
        "        self.b_f = torch.nn.Parameter(torch.Tensor(hidden_size))\n",
        "    \n",
        "        self.U_i = torch.nn.Parameter(torch.Tensor(input_size, hidden_size))\n",
        "        self.V_i = torch.nn.Parameter(torch.Tensor(hidden_size, hidden_size))\n",
        "        self.b_i = torch.nn.Parameter(torch.Tensor(hidden_size))\n",
        "        \n",
        "        self.U_c = torch.nn.Parameter(torch.Tensor(input_size, hidden_size))\n",
        "        self.V_c = torch.nn.Parameter(torch.Tensor(hidden_size, hidden_size))\n",
        "        self.b_c = torch.nn.Parameter(torch.Tensor(hidden_size))\n",
        "        \n",
        "        self.U_o = torch.nn.Parameter(torch.Tensor(input_size, hidden_size))\n",
        "        self.V_o = torch.nn.Parameter(torch.Tensor(hidden_size, hidden_size))\n",
        "        self.b_o = torch.nn.Parameter(torch.Tensor(hidden_size))\n",
        "\n",
        "        self.sigmoid = torch.nn.Sigmoid()\n",
        "        self.tanh = torch.nn.Tanh()\n",
        "\n",
        "\n",
        "\n",
        "    def forward(self, \n",
        "                input: torch.tensor, \n",
        "                states: Tuple[torch.tensor, torch.tensor]) -> Tuple[torch.tensor, torch.tensor]:\n",
        "        \n",
        "        hidden, cell = states\n",
        "        \n",
        "        # Compute input, forget, and output gates\n",
        "        # then compute new cell state and hidden state\n",
        "        # see http://colah.github.io/posts/2015-08-Understanding-LSTMs/ \n",
        "\n",
        "        f_t = self.sigmoid(input @ self.U_f + hidden @ self.V_f + self.b_f)\n",
        "        i_t = self.sigmoid(input @ self.U_i + hidden @ self.V_i + self.b_i)\n",
        "        g_t = self.tanh(input @ self.U_c + hidden @ self.V_c + self.b_c)\n",
        "        o_t = self.sigmoid(input @ self.U_o + hidden @ self.V_o + self.b_o)\n",
        "\n",
        "        cell = f_t * cell + i_t * g_t \n",
        "        hidden = o_t * self.tanh(cell)\n",
        "\n",
        "        return hidden, cell"
      ],
      "execution_count": 9,
      "outputs": []
    },
    {
      "cell_type": "markdown",
      "metadata": {
        "id": "5U5U8kizhAQz"
      },
      "source": [
        "### Klasa modelu LSTM"
      ]
    },
    {
      "cell_type": "code",
      "metadata": {
        "id": "G2MyIu3_hAQz"
      },
      "source": [
        "class LSTM(torch.nn.Module):\n",
        "\n",
        "    def __init__(self, \n",
        "                 input_size: int, \n",
        "                 hidden_size: int):\n",
        "        \"\"\"\n",
        "        :param input_size: int\n",
        "            Dimensionality of the input vector\n",
        "        :param hidden_size: int\n",
        "            Dimensionality of the hidden space\n",
        "        \"\"\"\n",
        "        \n",
        "        super(LSTM, self).__init__()\n",
        "        \n",
        "        self.input_size = input_size\n",
        "        self.hidden_size = hidden_size\n",
        "\n",
        "        self.cell = LSTMCell(input_size=input_size, hidden_size=hidden_size)\n",
        "        \n",
        "    def forward(self, \n",
        "                input: torch.tensor) -> Tuple[torch.tensor, torch.tensor]:\n",
        "        \"\"\"\n",
        "        :param input: torch.tensor \n",
        "            Input tesnor for a single observation at timestep t\n",
        "            shape [batch_size, input_size]\n",
        "        Returns Tuple of two torch.tensors, both of shape [seq_len, batch_size, hidden_size]\n",
        "        \"\"\"\n",
        "        \n",
        "        batch_size = input.shape[0]\n",
        "        \n",
        "        hidden, cell = self.init_hidden_cell(batch_size)\n",
        "        \n",
        "        hiddens = []\n",
        "        cells = []\n",
        "        \n",
        "        # this time we will process the whole sequence in the forward method\n",
        "        # as oppose to the previous exercise, remember to loop over the timesteps\n",
        "        \n",
        "        time_steps = input.shape[1]\n",
        "\n",
        "\n",
        "        for i in range(time_steps):\n",
        "          hidden, cell = self.cell(input[:,i], (hidden, cell))\n",
        "          hiddens.append(hidden.unsqueeze(0))\n",
        "          cells.append(cell.unsqueeze(0))\n",
        "\n",
        "        hiddens = torch.cat(hiddens, dim=0)\n",
        "        cells = torch.cat(cells, dim=0)\n",
        "\n",
        "\n",
        "        return hiddens, cells\n",
        "    \n",
        "    def init_hidden_cell(self, batch_size):\n",
        "        \"\"\"\n",
        "        Returns initial value for the hidden and cell states\n",
        "        \"\"\"\n",
        "        return (torch.zeros(batch_size, self.hidden_size, requires_grad=True).cuda(), \n",
        "                torch.zeros(batch_size, self.hidden_size, requires_grad=True).cuda())"
      ],
      "execution_count": 10,
      "outputs": []
    },
    {
      "cell_type": "markdown",
      "metadata": {
        "id": "3qRxPI-nhAQz"
      },
      "source": [
        "### Pętla uczenia"
      ]
    },
    {
      "cell_type": "code",
      "metadata": {
        "id": "4LVCWqsVhAQ0",
        "colab": {
          "base_uri": "https://localhost:8080/"
        },
        "outputId": "fbb74e7a-cee6-49d6-e8c3-dfa962a12fc6"
      },
      "source": [
        "from itertools import chain\n",
        "\n",
        "torch.manual_seed(1337)\n",
        "\n",
        "# build data loaders\n",
        "train_loader = DataLoader(train_dataset, batch_size=1, sampler=sampler)\n",
        "test_loader = DataLoader(test_dataset, batch_size=1)\n",
        "\n",
        "# initialize the lstm with an additional cliassifier layer at the top\n",
        "lstm = LSTM(input_size=len(all_letters), hidden_size=128).cuda()\n",
        "clf = torch.nn.Linear(in_features=128, out_features=len(label_to_idx)).cuda()\n",
        "\n",
        "# initialize a optimizer\n",
        "params = chain(lstm.parameters(), clf.parameters())\n",
        "optimizer = torch.optim.Adam(params, lr=0.001) \n",
        "\n",
        "# we will train for only a single epoch \n",
        "epoch = 1\n",
        "\n",
        "# main loop\n",
        "for epoch in range(epoch):\n",
        "    \n",
        "    loss_buffer = []\n",
        "    \n",
        "    for i, (x, y) in enumerate(train_loader):   \n",
        "        \n",
        "        x = x.cuda()\n",
        "        y = y.cuda()\n",
        "        \n",
        "        optimizer.zero_grad()\n",
        "        \n",
        "        # get output for the sample, remember that we treat it as a sequence\n",
        "        # so you need to iterate over the sequence length here\n",
        "        # don't forget about the classifier!\n",
        "\n",
        "        output, _ = lstm(x)\n",
        "\n",
        "        pred = clf(output[-1])\n",
        "        loss = cross_entropy(pred, y)\n",
        "        loss.backward()\n",
        "        optimizer.step()                                \n",
        "        loss_buffer.append(loss.item())\n",
        "        \n",
        "        if i % 1000 == 1:\n",
        "            print(f\"Epoch: {epoch} Progress: {100 * i/len(train_loader):2.0f}% Loss: {np.mean(loss_buffer):.3f}\")\n",
        "            loss_buffer = []\n",
        "\n",
        "# evaluate on the test set\n",
        "with torch.no_grad():\n",
        "    \n",
        "    ps = []\n",
        "    ys = []\n",
        "    for i, (x, y) in enumerate(test_loader): \n",
        "        \n",
        "        x = x.cuda()\n",
        "        ys.append(y.numpy())\n",
        "        \n",
        "        output, _ = lstm(x)\n",
        "        output = clf(output[-1])\n",
        "        pred = output.argmax(dim=1)\n",
        "        ps.append(pred.cpu().numpy())\n",
        "    \n",
        "    ps = np.concatenate(ps, axis=0)\n",
        "    ys = np.concatenate(ys, axis=0)\n",
        "    f1 = f1_score(ys, ps, average='weighted')\n",
        "    \n",
        "    print(f\"Final F1 score: {f1:.2f}\")\n",
        "    assert f1 > 0.18, \"You should get over 0.18 f1 score, try changing some hiperparams!\""
      ],
      "execution_count": 11,
      "outputs": [
        {
          "output_type": "stream",
          "text": [
            "Epoch: 0 Progress:  0% Loss: 2.845\n",
            "Epoch: 0 Progress:  6% Loss: 2.715\n",
            "Epoch: 0 Progress: 11% Loss: 2.188\n",
            "Epoch: 0 Progress: 17% Loss: 1.796\n",
            "Epoch: 0 Progress: 22% Loss: 1.769\n",
            "Epoch: 0 Progress: 28% Loss: 1.619\n",
            "Epoch: 0 Progress: 33% Loss: 1.582\n",
            "Epoch: 0 Progress: 39% Loss: 1.466\n",
            "Epoch: 0 Progress: 44% Loss: 1.417\n",
            "Epoch: 0 Progress: 50% Loss: 1.348\n",
            "Epoch: 0 Progress: 55% Loss: 1.309\n",
            "Epoch: 0 Progress: 61% Loss: 1.247\n",
            "Epoch: 0 Progress: 66% Loss: 1.248\n",
            "Epoch: 0 Progress: 72% Loss: 1.188\n",
            "Epoch: 0 Progress: 77% Loss: 1.139\n",
            "Epoch: 0 Progress: 83% Loss: 1.075\n",
            "Epoch: 0 Progress: 89% Loss: 1.042\n",
            "Epoch: 0 Progress: 94% Loss: 0.928\n",
            "Epoch: 0 Progress: 100% Loss: 0.983\n",
            "Final F1 score: 0.23\n"
          ],
          "name": "stdout"
        }
      ]
    },
    {
      "cell_type": "markdown",
      "metadata": {
        "id": "gGXUhgroo7AN"
      },
      "source": [
        "## Zadanie 4. (0.5 pkt.)\n",
        "Zaimplementuj analogiczną do funkcji `predict` z zadania 2 dla modelu `lstm+clf`.\n"
      ]
    },
    {
      "cell_type": "code",
      "metadata": {
        "id": "-ChJv1fphAQ0"
      },
      "source": [
        "def predict_lstm(name: str, lstm: LSTM, clf: torch.nn.Module):\n",
        "    \"\"\"Prints the name and model's top 3 predictions with scores\"\"\"\n",
        "    x = line_to_tensor(name).view(1, len(name), -1)\n",
        "    x = x.cuda()\n",
        "\n",
        "    output, _ = lstm(x)\n",
        "    out_clf = clf(output[-1])\n",
        "    \n",
        "    best_pred = torch.topk(out_clf, k=3, dim=1)[1]\n",
        "    for i, pred in enumerate(best_pred.data[0]):\n",
        "      print(f\"Prediction {i+1}: {label_to_idx[pred.item()]}\")\n"
      ],
      "execution_count": 12,
      "outputs": []
    },
    {
      "cell_type": "code",
      "metadata": {
        "id": "pgQcGWqthAQ0",
        "colab": {
          "base_uri": "https://localhost:8080/"
        },
        "outputId": "bb0ce1fe-a6b3-437d-d95b-60f13044f884"
      },
      "source": [
        "# test your lstm predictor\n",
        "some_names = [\"Satoshi\", \"Jackson\", \"Schmidhuber\", \"Hinton\", \"Kowalski\"]\n",
        "    \n",
        "for name in some_names:\n",
        "    print(name)\n",
        "    predict_lstm(name, lstm, clf)"
      ],
      "execution_count": 13,
      "outputs": [
        {
          "output_type": "stream",
          "text": [
            "Satoshi\n",
            "Prediction 1: arabic\n",
            "Prediction 2: japanese\n",
            "Prediction 3: italian\n",
            "Jackson\n",
            "Prediction 1: scottish\n",
            "Prediction 2: english\n",
            "Prediction 3: dutch\n",
            "Schmidhuber\n",
            "Prediction 1: german\n",
            "Prediction 2: english\n",
            "Prediction 3: dutch\n",
            "Hinton\n",
            "Prediction 1: english\n",
            "Prediction 2: scottish\n",
            "Prediction 3: german\n",
            "Kowalski\n",
            "Prediction 1: polish\n",
            "Prediction 2: czech\n",
            "Prediction 3: japanese\n"
          ],
          "name": "stdout"
        }
      ]
    }
  ]
}